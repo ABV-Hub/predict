{
 "cells": [
  {
   "cell_type": "markdown",
   "metadata": {},
   "source": [
    "### Machine learning in geoscience with scikit-learn\n",
    "\n",
    "\n",
    "Matteo Niccoli, MyCarta - Calgary, Alberta, Canada\n",
    "\n",
    "mycarta.wordpress.com\n",
    "\n",
    "matteo@mycarta.ca"
   ]
  },
  {
   "cell_type": "markdown",
   "metadata": {},
   "source": [
    "##### This notebook is intended to show how to use the prediction interval of a regression to discuss economic risk."
   ]
  },
  {
   "cell_type": "markdown",
   "metadata": {},
   "source": [
    "Let's first define the prediction interval:\n",
    "\n",
    "we look at any specific value of x, say x0, and at that x0 we find an interval around the predicted value of y, y0 such that there is a 95% probability that the real value of y in the population (for example, the next well to be drilled) is within this interval.\n",
    "\n",
    "The larger the interval the greater the uncertainty."
   ]
  },
  {
   "cell_type": "markdown",
   "metadata": {},
   "source": [
    "The data we will use comes from this paper: <a href= \"http://csegrecorder.com/features/view/value-of-integrated-geophysics-201312\"> Many correlation coefficients, null hypotheses, and high value</a> (Lee Hunt, CSEG Recorder, December 2013).\n",
    "\n",
    "\n",
    "The target variable to be predicted is oil production (measured in tens of barrels of oil per day) from a marine barrier sand. The independent variable is gross pay in meters."
   ]
  },
  {
   "cell_type": "markdown",
   "metadata": {},
   "source": [
    "First we import the Python libraries we will need, and the data. "
   ]
  },
  {
   "cell_type": "code",
   "execution_count": 2,
   "metadata": {
    "collapsed": false
   },
   "outputs": [],
   "source": [
    "import pandas as pd\n",
    "import numpy as np\n",
    "import matplotlib as mpl\n",
    "import matplotlib.pyplot as plt\n",
    "from IPython.display import display\n",
    "import seaborn as sns\n",
    "%matplotlib inline"
   ]
  },
  {
   "cell_type": "code",
   "execution_count": 3,
   "metadata": {
    "collapsed": false
   },
   "outputs": [],
   "source": [
    "data = pd.read_csv('Table2_Hunt_2013_edit.csv')"
   ]
  },
  {
   "cell_type": "markdown",
   "metadata": {},
   "source": [
    "We quickly dispaly some statistics."
   ]
  },
  {
   "cell_type": "code",
   "execution_count": 4,
   "metadata": {
    "collapsed": false
   },
   "outputs": [
    {
     "data": {
      "text/html": [
       "<div>\n",
       "<table border=\"1\" class=\"dataframe\">\n",
       "  <thead>\n",
       "    <tr style=\"text-align: right;\">\n",
       "      <th></th>\n",
       "      <th>Gross pay</th>\n",
       "      <th>Phi-h</th>\n",
       "      <th>Position</th>\n",
       "      <th>Pressure</th>\n",
       "      <th>Random 1</th>\n",
       "      <th>Random 2</th>\n",
       "      <th>Gross pay transform</th>\n",
       "      <th>Production</th>\n",
       "    </tr>\n",
       "  </thead>\n",
       "  <tbody>\n",
       "    <tr>\n",
       "      <th>count</th>\n",
       "      <td>21.000000</td>\n",
       "      <td>21.000000</td>\n",
       "      <td>21.000000</td>\n",
       "      <td>21.000000</td>\n",
       "      <td>21.000000</td>\n",
       "      <td>21.000000</td>\n",
       "      <td>21.000000</td>\n",
       "      <td>21.000000</td>\n",
       "    </tr>\n",
       "    <tr>\n",
       "      <th>mean</th>\n",
       "      <td>9.823810</td>\n",
       "      <td>68.880952</td>\n",
       "      <td>1.885714</td>\n",
       "      <td>15.285714</td>\n",
       "      <td>10.190476</td>\n",
       "      <td>292.714286</td>\n",
       "      <td>16.579524</td>\n",
       "      <td>33.428571</td>\n",
       "    </tr>\n",
       "    <tr>\n",
       "      <th>std</th>\n",
       "      <td>5.948521</td>\n",
       "      <td>45.167894</td>\n",
       "      <td>0.708721</td>\n",
       "      <td>2.759400</td>\n",
       "      <td>6.439092</td>\n",
       "      <td>59.429069</td>\n",
       "      <td>6.543793</td>\n",
       "      <td>15.141909</td>\n",
       "    </tr>\n",
       "    <tr>\n",
       "      <th>min</th>\n",
       "      <td>0.100000</td>\n",
       "      <td>0.500000</td>\n",
       "      <td>1.000000</td>\n",
       "      <td>10.000000</td>\n",
       "      <td>1.000000</td>\n",
       "      <td>210.000000</td>\n",
       "      <td>3.540000</td>\n",
       "      <td>7.710000</td>\n",
       "    </tr>\n",
       "    <tr>\n",
       "      <th>25%</th>\n",
       "      <td>4.900000</td>\n",
       "      <td>24.600000</td>\n",
       "      <td>1.100000</td>\n",
       "      <td>14.000000</td>\n",
       "      <td>6.000000</td>\n",
       "      <td>245.000000</td>\n",
       "      <td>11.520000</td>\n",
       "      <td>22.670000</td>\n",
       "    </tr>\n",
       "    <tr>\n",
       "      <th>50%</th>\n",
       "      <td>10.000000</td>\n",
       "      <td>72.900000</td>\n",
       "      <td>2.000000</td>\n",
       "      <td>16.000000</td>\n",
       "      <td>10.000000</td>\n",
       "      <td>273.000000</td>\n",
       "      <td>16.900000</td>\n",
       "      <td>36.420000</td>\n",
       "    </tr>\n",
       "    <tr>\n",
       "      <th>75%</th>\n",
       "      <td>15.100000</td>\n",
       "      <td>100.000000</td>\n",
       "      <td>2.200000</td>\n",
       "      <td>17.000000</td>\n",
       "      <td>13.000000</td>\n",
       "      <td>340.000000</td>\n",
       "      <td>21.970000</td>\n",
       "      <td>44.200000</td>\n",
       "    </tr>\n",
       "    <tr>\n",
       "      <th>max</th>\n",
       "      <td>19.100000</td>\n",
       "      <td>160.000000</td>\n",
       "      <td>2.900000</td>\n",
       "      <td>20.000000</td>\n",
       "      <td>21.000000</td>\n",
       "      <td>395.000000</td>\n",
       "      <td>29.250000</td>\n",
       "      <td>59.200000</td>\n",
       "    </tr>\n",
       "  </tbody>\n",
       "</table>\n",
       "</div>"
      ],
      "text/plain": [
       "       Gross pay       Phi-h   Position   Pressure   Random 1    Random 2  \\\n",
       "count  21.000000   21.000000  21.000000  21.000000  21.000000   21.000000   \n",
       "mean    9.823810   68.880952   1.885714  15.285714  10.190476  292.714286   \n",
       "std     5.948521   45.167894   0.708721   2.759400   6.439092   59.429069   \n",
       "min     0.100000    0.500000   1.000000  10.000000   1.000000  210.000000   \n",
       "25%     4.900000   24.600000   1.100000  14.000000   6.000000  245.000000   \n",
       "50%    10.000000   72.900000   2.000000  16.000000  10.000000  273.000000   \n",
       "75%    15.100000  100.000000   2.200000  17.000000  13.000000  340.000000   \n",
       "max    19.100000  160.000000   2.900000  20.000000  21.000000  395.000000   \n",
       "\n",
       "       Gross pay transform  Production  \n",
       "count            21.000000   21.000000  \n",
       "mean             16.579524   33.428571  \n",
       "std               6.543793   15.141909  \n",
       "min               3.540000    7.710000  \n",
       "25%              11.520000   22.670000  \n",
       "50%              16.900000   36.420000  \n",
       "75%              21.970000   44.200000  \n",
       "max              29.250000   59.200000  "
      ]
     },
     "execution_count": 4,
     "metadata": {},
     "output_type": "execute_result"
    }
   ],
   "source": [
    "data.describe()"
   ]
  },
  {
   "cell_type": "markdown",
   "metadata": {},
   "source": [
    "And since we are only interested in Production and Gross Pay (the highest predictor, as shown in <a href=\"https://github.com/mycarta/predict/blob/master/Geoscience_ML_notebook_2.ipynb\"> this notebook</a>), we drop the other variables. We also change the index for the wells so as to be one-based (default indexing for Pandas is zero-based)."
   ]
  },
  {
   "cell_type": "code",
   "execution_count": 5,
   "metadata": {
    "collapsed": false
   },
   "outputs": [
    {
     "data": {
      "text/html": [
       "<div>\n",
       "<table border=\"1\" class=\"dataframe\">\n",
       "  <thead>\n",
       "    <tr style=\"text-align: right;\">\n",
       "      <th></th>\n",
       "      <th>Gross pay</th>\n",
       "      <th>Production</th>\n",
       "    </tr>\n",
       "  </thead>\n",
       "  <tbody>\n",
       "    <tr>\n",
       "      <th>1</th>\n",
       "      <td>0.1</td>\n",
       "      <td>15.10</td>\n",
       "    </tr>\n",
       "    <tr>\n",
       "      <th>2</th>\n",
       "      <td>1.0</td>\n",
       "      <td>21.30</td>\n",
       "    </tr>\n",
       "    <tr>\n",
       "      <th>3</th>\n",
       "      <td>1.9</td>\n",
       "      <td>22.75</td>\n",
       "    </tr>\n",
       "    <tr>\n",
       "      <th>4</th>\n",
       "      <td>3.1</td>\n",
       "      <td>15.72</td>\n",
       "    </tr>\n",
       "    <tr>\n",
       "      <th>5</th>\n",
       "      <td>4.1</td>\n",
       "      <td>7.71</td>\n",
       "    </tr>\n",
       "    <tr>\n",
       "      <th>6</th>\n",
       "      <td>4.9</td>\n",
       "      <td>22.67</td>\n",
       "    </tr>\n",
       "    <tr>\n",
       "      <th>7</th>\n",
       "      <td>5.9</td>\n",
       "      <td>18.11</td>\n",
       "    </tr>\n",
       "    <tr>\n",
       "      <th>8</th>\n",
       "      <td>7.0</td>\n",
       "      <td>24.30</td>\n",
       "    </tr>\n",
       "    <tr>\n",
       "      <th>9</th>\n",
       "      <td>8.1</td>\n",
       "      <td>24.04</td>\n",
       "    </tr>\n",
       "    <tr>\n",
       "      <th>10</th>\n",
       "      <td>8.9</td>\n",
       "      <td>25.11</td>\n",
       "    </tr>\n",
       "    <tr>\n",
       "      <th>11</th>\n",
       "      <td>10.0</td>\n",
       "      <td>36.80</td>\n",
       "    </tr>\n",
       "    <tr>\n",
       "      <th>12</th>\n",
       "      <td>11.1</td>\n",
       "      <td>36.42</td>\n",
       "    </tr>\n",
       "    <tr>\n",
       "      <th>13</th>\n",
       "      <td>11.9</td>\n",
       "      <td>39.59</td>\n",
       "    </tr>\n",
       "    <tr>\n",
       "      <th>14</th>\n",
       "      <td>13.0</td>\n",
       "      <td>51.60</td>\n",
       "    </tr>\n",
       "    <tr>\n",
       "      <th>15</th>\n",
       "      <td>14.1</td>\n",
       "      <td>48.05</td>\n",
       "    </tr>\n",
       "    <tr>\n",
       "      <th>16</th>\n",
       "      <td>15.1</td>\n",
       "      <td>51.72</td>\n",
       "    </tr>\n",
       "    <tr>\n",
       "      <th>17</th>\n",
       "      <td>15.9</td>\n",
       "      <td>59.20</td>\n",
       "    </tr>\n",
       "    <tr>\n",
       "      <th>18</th>\n",
       "      <td>16.0</td>\n",
       "      <td>58.30</td>\n",
       "    </tr>\n",
       "    <tr>\n",
       "      <th>19</th>\n",
       "      <td>17.1</td>\n",
       "      <td>41.80</td>\n",
       "    </tr>\n",
       "    <tr>\n",
       "      <th>20</th>\n",
       "      <td>18.0</td>\n",
       "      <td>44.20</td>\n",
       "    </tr>\n",
       "    <tr>\n",
       "      <th>21</th>\n",
       "      <td>19.1</td>\n",
       "      <td>37.51</td>\n",
       "    </tr>\n",
       "  </tbody>\n",
       "</table>\n",
       "</div>"
      ],
      "text/plain": [
       "    Gross pay  Production\n",
       "1         0.1       15.10\n",
       "2         1.0       21.30\n",
       "3         1.9       22.75\n",
       "4         3.1       15.72\n",
       "5         4.1        7.71\n",
       "6         4.9       22.67\n",
       "7         5.9       18.11\n",
       "8         7.0       24.30\n",
       "9         8.1       24.04\n",
       "10        8.9       25.11\n",
       "11       10.0       36.80\n",
       "12       11.1       36.42\n",
       "13       11.9       39.59\n",
       "14       13.0       51.60\n",
       "15       14.1       48.05\n",
       "16       15.1       51.72\n",
       "17       15.9       59.20\n",
       "18       16.0       58.30\n",
       "19       17.1       41.80\n",
       "20       18.0       44.20\n",
       "21       19.1       37.51"
      ]
     },
     "metadata": {},
     "output_type": "display_data"
    }
   ],
   "source": [
    "data = data.drop(['Phi-h','Position','Pressure','Random 1','Random 2','Gross pay transform'], axis=1)\n",
    "indexed_data = data.set_index([np.arange(1,22,1)])\n",
    "display(indexed_data)"
   ]
  },
  {
   "cell_type": "markdown",
   "metadata": {},
   "source": [
    "We will use Statsmodels' <a href=\"http://statsmodels.sourceforge.net/devel/examples/notebooks/generated/ols.html\"> Ordinary Least Square</a> to perform the regression and also to derive calculate the prediction interval."
   ]
  },
  {
   "cell_type": "code",
   "execution_count": 6,
   "metadata": {
    "collapsed": false
   },
   "outputs": [],
   "source": [
    "import statsmodels.api as sm\n",
    "\n",
    "sort_data = indexed_data.sort_values(by='Gross pay', ascending=True)\n",
    "\n",
    "X = sort_data.loc[:,'Gross pay']\n",
    "X = sm.add_constant(X, prepend=False) # add intercept\n",
    "y = sort_data.loc[:,'Production']\n",
    "\n",
    "model = sm.OLS(y, X)\n",
    "results = model.fit()\n",
    "predicted = results.predict()"
   ]
  },
  {
   "cell_type": "markdown",
   "metadata": {},
   "source": [
    "If you do not want to see a summary of the statistics, comment out the code in the cell below."
   ]
  },
  {
   "cell_type": "code",
   "execution_count": 7,
   "metadata": {
    "collapsed": false
   },
   "outputs": [
    {
     "name": "stdout",
     "output_type": "stream",
     "text": [
      "                            OLS Regression Results                            \n",
      "==============================================================================\n",
      "Dep. Variable:             Production   R-squared:                       0.721\n",
      "Model:                            OLS   Adj. R-squared:                  0.707\n",
      "Method:                 Least Squares   F-statistic:                     49.15\n",
      "Date:                Sun, 13 Nov 2016   Prob (F-statistic):           1.12e-06\n",
      "Time:                        22:12:20   Log-Likelihood:                -72.940\n",
      "No. Observations:                  21   AIC:                             149.9\n",
      "Df Residuals:                      19   BIC:                             152.0\n",
      "Df Model:                           1                                         \n",
      "Covariance Type:            nonrobust                                         \n",
      "==============================================================================\n",
      "                 coef    std err          t      P>|t|      [95.0% Conf. Int.]\n",
      "------------------------------------------------------------------------------\n",
      "Gross pay      2.1617      0.308      7.011      0.000         1.516     2.807\n",
      "const         12.1920      3.518      3.465      0.003         4.828    19.556\n",
      "==============================================================================\n",
      "Omnibus:                        0.572   Durbin-Watson:                   0.905\n",
      "Prob(Omnibus):                  0.751   Jarque-Bera (JB):                0.638\n",
      "Skew:                          -0.187   Prob(JB):                        0.727\n",
      "Kurtosis:                       2.232   Cond. No.                         22.6\n",
      "==============================================================================\n",
      "\n",
      "Warnings:\n",
      "[1] Standard Errors assume that the covariance matrix of the errors is correctly specified.\n"
     ]
    }
   ],
   "source": [
    "print(results.summary())"
   ]
  },
  {
   "cell_type": "markdown",
   "metadata": {},
   "source": [
    "Now we predict the lower and upper boundaries of the prediction interval."
   ]
  },
  {
   "cell_type": "code",
   "execution_count": 8,
   "metadata": {
    "collapsed": false
   },
   "outputs": [],
   "source": [
    "from statsmodels.sandbox.regression.predstd import wls_prediction_std\n",
    "pred_std, iv_l, iv_u = wls_prediction_std(results)"
   ]
  },
  {
   "cell_type": "markdown",
   "metadata": {},
   "source": [
    "We can display the regression with the data and the prediction interval in a single plot."
   ]
  },
  {
   "cell_type": "code",
   "execution_count": 9,
   "metadata": {
    "collapsed": false
   },
   "outputs": [
    {
     "data": {
      "image/png": "[encoded data removed]",
      "text/plain": [
       "<matplotlib.figure.Figure at 0x10866ec90>"
      ]
     },
     "metadata": {},
     "output_type": "display_data"
    }
   ],
   "source": [
    "plt.figure(figsize=(10, 10))\n",
    "ax = plt.subplot(111)\n",
    "ax.plot(range(21), y, 'o', label = \"True: 21 wells\")\n",
    "ax.plot(range(21), predicted, '-', lw=2, label = \"Predicted OLS\")\n",
    "ax.plot(range(21), iv_l, 'r--', lw=2)\n",
    "ax.plot(range(21), iv_u, 'r--', lw=2)\n",
    "ax.legend(loc='best');\n",
    "ax.get_xaxis().set_minor_locator(mpl.ticker.AutoMinorLocator())\n",
    "ax.get_yaxis().set_minor_locator(mpl.ticker.AutoMinorLocator())\n",
    "ax.grid(b=True, which='major', color='w', linewidth=1.0)\n",
    "ax.grid(b=True, which='minor', color='w', linewidth=0.5)\n",
    "\n",
    "# P.arrow( x, y, dx, dy, **kwargs )\n",
    "ax.arrow(0,20,3.1,0,fc='g',ec='g',head_width=1, head_length=.3)\n",
    "ax.arrow(3.5,20,0,-18.7,fc='g',ec='g',head_width=.3, head_length=1)\n",
    "ax.arrow(0,20,11.6,0,fc='m',ec='m',head_width=1, head_length=.3)\n",
    "ax.arrow(12,20,0,-18.7,fc='m',ec='m',head_width=.3, head_length=1)\n",
    "plt.xticks(list(plt.xticks()[0]) + [3.5, 12])\n",
    "ax.set_xlabel('Gross Pay')\n",
    "ax.set_ylabel('Production')\n",
    "ax.set_ylim([0, 80])\n",
    "ax.set_xlim([-0.2, 20.2])\n",
    "plt.show()"
   ]
  },
  {
   "cell_type": "markdown",
   "metadata": {},
   "source": [
    "How do we use this plot? Let's say we have a cutoff of minimum economic production, say for example 20 (bbl/d x10).\n",
    "With 21 wells the regression would suggest a minimum gross pay of 3.5 m. But if we used the lower boundary of the prediction interval, the 95% confidence level, minimum gross pay would be 12 m."
   ]
  },
  {
   "cell_type": "markdown",
   "metadata": {},
   "source": [
    "But, what would happen if we had less wells? Let's say we are in earlier stages of the appraisal process. \n",
    "To simulate that, we randomly select only 7 of the 21 wells and repeat the exercise."
   ]
  },
  {
   "cell_type": "code",
   "execution_count": 10,
   "metadata": {
    "collapsed": false
   },
   "outputs": [
    {
     "name": "stdout",
     "output_type": "stream",
     "text": [
      "[ 0  1  4  6  9 18 19]\n"
     ]
    }
   ],
   "source": [
    "np.random.seed(37)\n",
    "rfew = np.sort(np.random.choice(range(21), 7, replace=False))\n",
    "print rfew"
   ]
  },
  {
   "cell_type": "code",
   "execution_count": 11,
   "metadata": {
    "collapsed": false
   },
   "outputs": [],
   "source": [
    "sort_data_few = sort_data.iloc[rfew]\n",
    "Xfew = sort_data_few.loc[:,'Gross pay']\n",
    "Xfew = sm.add_constant(Xfew, prepend=False) # add intercept:\n",
    "                        \n",
    "yfew = sort_data_few.loc[:,'Production']\n",
    "\n",
    "modelfew = sm.OLS(yfew, Xfew)\n",
    "resultsfew = modelfew.fit()\n",
    "\n",
    "predictedf = resultsfew.predict()"
   ]
  },
  {
   "cell_type": "code",
   "execution_count": 12,
   "metadata": {
    "collapsed": true
   },
   "outputs": [],
   "source": [
    "pred_stdf, iv_lf, iv_uf = wls_prediction_std(resultsfew)"
   ]
  },
  {
   "cell_type": "code",
   "execution_count": 13,
   "metadata": {
    "collapsed": false
   },
   "outputs": [
    {
     "data": {
      "image/png": "[encoded data removed]",
      "text/plain": [
       "<matplotlib.figure.Figure at 0x117990310>"
      ]
     },
     "metadata": {},
     "output_type": "display_data"
    }
   ],
   "source": [
    "plt.figure(figsize=(10, 10))\n",
    "ax = plt.subplot(111)\n",
    "ax.plot(rfew, yfew, 'o', label = \"True, 10 wells\")\n",
    "ax.plot(rfew, predictedf, '-', lw=2, label = \"Predicted OLS\")\n",
    "ax.plot(rfew, iv_lf, 'r--', lw=2)\n",
    "ax.plot(rfew, iv_uf, 'r--', lw=2)\n",
    "ax.legend(loc='best');\n",
    "ax.get_xaxis().set_minor_locator(mpl.ticker.AutoMinorLocator())\n",
    "ax.get_yaxis().set_minor_locator(mpl.ticker.AutoMinorLocator())\n",
    "ax.grid(b=True, which='major', color='w', linewidth=1.0)\n",
    "ax.grid(b=True, which='minor', color='w', linewidth=0.5)\n",
    "\n",
    "# P.arrow( x, y, dx, dy, **kwargs )\n",
    "ax.arrow(0,20,4.6,0,fc='g',ec='g',head_width=1, head_length=.3)\n",
    "ax.arrow(5,20,0,-18.7,fc='g',ec='g',head_width=.3, head_length=1)\n",
    "ax.arrow(0,20,17.3,0,fc='m',ec='m',head_width=1, head_length=.3)\n",
    "ax.arrow(17.5,20,0,-18.7,fc='m',ec='m',head_width=.3, head_length=1)\n",
    "plt.xticks(list(plt.xticks()[0]) + [17.5])\n",
    "ax.set_xlabel('Gross Pay')\n",
    "ax.set_ylabel('Production')\n",
    "ax.set_ylim([0, 80])\n",
    "ax.set_xlim([-0.2, 20.2])\n",
    "plt.show()"
   ]
  },
  {
   "cell_type": "markdown",
   "metadata": {},
   "source": [
    "With 10 wells the minimum gross pay suggested by the regression is not a lot higher: 5 m instead of 3.5. However, using the wider prediction interval, now the 95% confidence level, minimum gross pay has gone up from 12 m to 17.5 m.\n",
    "\n",
    "Perhaps we can live with this. As Hunt suggests in the paper, in the early stages we should understand the statistics, and either choose to accept the statistical nature of the outcomes we endure, improve the conditions of our investigative techniques (or drill more wells), or move on to something else.\n",
    "\n",
    "Going back to the 21 well example, now confidence is higher, and we can make better conclusions via inductive confirmation:\n",
    "IF production is higher than 20 (bbl/d x10), then the gross pay will be greater than 12.5 m. Next well drilled has gross pay greater than 9.5 m: we are 95% confident that the production will be higher than the minimum economic of 20 (bbl/d x10)."
   ]
  },
  {
   "cell_type": "markdown",
   "metadata": {},
   "source": [
    "Notice that in some cases, fewer wells may result in narrower prediction intervals. What you get depends just on the lack of the draw (the random choice of 7 wells). \n",
    "\n",
    "To show this variability, the exercise should be done stochastically using many different realizations (choices of 7 random wells) to get a family of widely ranging prediction intervals.\n",
    "\n",
    "The minimum prediction would be guaranteed only by selecting the most pessimistic (widest) of these intervals (or perhaps the P2.5 of this distribution of prediction intervals)."
   ]
  }
 ],
 "metadata": {
  "kernelspec": {
   "display_name": "Python 2",
   "language": "python",
   "name": "python2"
  },
  "language_info": {
   "codemirror_mode": {
    "name": "ipython",
    "version": 2
   },
   "file_extension": ".py",
   "mimetype": "text/x-python",
   "name": "python",
   "nbconvert_exporter": "python",
   "pygments_lexer": "ipython2",
   "version": "2.7.11"
  }
 },
 "nbformat": 4,
 "nbformat_minor": 0
}
